{
 "cells": [
  {
   "cell_type": "code",
   "execution_count": 104,
   "metadata": {},
   "outputs": [
    {
     "ename": "IndentationError",
     "evalue": "unindent does not match any outer indentation level (<tokenize>, line 80)",
     "output_type": "error",
     "traceback": [
      "\u001b[0;36m  File \u001b[0;32m\"<tokenize>\"\u001b[0;36m, line \u001b[0;32m80\u001b[0m\n\u001b[0;31m    else:\u001b[0m\n\u001b[0m    ^\u001b[0m\n\u001b[0;31mIndentationError\u001b[0m\u001b[0;31m:\u001b[0m unindent does not match any outer indentation level\n"
     ]
    }
   ],
   "source": [
    "import numpy as np\n",
    "import copy\n",
    "\n",
    "class Othello:\n",
    "\n",
    "    def __init__(self):\n",
    "        self.board = np.zeros((8,8))\n",
    "        # 1 is white (0), 2 is black (X)\n",
    "        self.board[3,3] = 1\n",
    "        self.board[4,4] = 1\n",
    "        self.board[3,4] = 2\n",
    "        self.board[4,3] = 2\n",
    "    \n",
    "    def visualize(self):\n",
    "        for i in range(len(self.board)):\n",
    "            print('\\n')\n",
    "            for j in range(len(self.board)):\n",
    "                if self.board[i,j] == 0:\n",
    "                    print(' _ ',end='')\n",
    "                if self.board[i,j] == 1:\n",
    "                    print(' 0 ',end='')\n",
    "                if self.board[i,j] == 2:\n",
    "                    print(' X ',end='')\n",
    "\n",
    "    def visualize_possible_move(self,player,possible_move):\n",
    "        copy_board = copy.deepcopy(self.board)\n",
    "        print('\\n')\n",
    "        print(\"Valid move for player: \",player)\n",
    "\n",
    "        for i,j in possible_move:\n",
    "            copy_board[i,j] = 3\n",
    "        for i in range(len(copy_board)):\n",
    "            print('\\n')\n",
    "            for j in range(len(copy_board)):\n",
    "                if copy_board[i,j] == 0:\n",
    "                    print(' _ ',end='')\n",
    "                if copy_board[i,j] == 1:\n",
    "                    print(' 0 ',end='')\n",
    "                if copy_board[i,j] == 2:\n",
    "                    print(' X ',end='')\n",
    "                if copy_board[i,j] == 3:\n",
    "                    print(' * ',end='')\n",
    "        print('\\n')\n",
    "\n",
    "    def is_valid(self,current_player,x,y):\n",
    "        # Check if the move at (x,y) is valid for the player\n",
    "        tile_to_flip = []\n",
    "        # Check the vertical direction, downward\n",
    "        \n",
    "        if x < 7:\n",
    "            con = False\n",
    "            temp = []\n",
    "            for i in range(x+1,len(self.board)):\n",
    "                if self.board[i,y] == 0:\n",
    "                    break \n",
    "                if not(con) and self.board[i,y] == current_player:\n",
    "                    break\n",
    "                if con and self.board[i,y] == current_player:\n",
    "                    for tile in temp:\n",
    "                        tile_to_flip.append(tile)\n",
    "                    break\n",
    "                else:\n",
    "                    con = True\n",
    "                    temp.append((i,y))\n",
    "\n",
    "        # Check the vertical direction, upward\n",
    "        if x > 0:\n",
    "            con = False\n",
    "            temp = []\n",
    "            for i in reversed(range(0,x)):\n",
    "                if self.board[i,y] == 0:\n",
    "                    break\n",
    "                if not(con) and self.board[i,y] == current_player:\n",
    "                    break\n",
    "                if con and self.board[i,y] == current_player:\n",
    "                    for tile in temp:\n",
    "                        tile_to_flip.append(tile)\n",
    "                    break\n",
    "               \n",
    "               else:\n",
    "                    con = True\n",
    "                    temp.append((i,y))\n",
    "        # Check the horizontal direction, to the left of the move\n",
    "        if y > 0:\n",
    "            con = False\n",
    "            temp = []\n",
    "            for i in reversed(range(0,y)):\n",
    "                if self.board[x,i] == 0:\n",
    "                    break\n",
    "                if not(con) and self.board[x,i] == current_player:\n",
    "                    break\n",
    "                if con and self.board[x,i] == current_player:\n",
    "                    for tile in temp:\n",
    "                        tile_to_flip.append(tile)\n",
    "                    break\n",
    "                else:\n",
    "                    con = True\n",
    "                    temp.append((x,i))\n",
    "        # Check the horizontal direction, to the right of the move\n",
    "        if y < 7:\n",
    "            con = False\n",
    "            temp = []\n",
    "            for i in range(y+1,len(self.board)):\n",
    "                if self.board[x,i] == 0:\n",
    "                    break\n",
    "                if not(con) and self.board[x,i] == current_player:\n",
    "                    break\n",
    "                if con and self.board[x,i] == current_player:\n",
    "                    for tile in temp:\n",
    "                        tile_to_flip.append(tile)\n",
    "                    break\n",
    "                else:\n",
    "                    con = True\n",
    "                    temp.append((x,i))\n",
    "\n",
    "        # Check diagonally to upper left\n",
    "        if x>0 and y>0:\n",
    "            v = x-1\n",
    "            h = y-1\n",
    "            con = False\n",
    "            temp = []\n",
    "            while v>=0 and h>=0:\n",
    "                if self.board[v,h] == 0:\n",
    "                    break\n",
    "                if not(con) and self.board[v,h] == current_player:\n",
    "                    break\n",
    "                if con and self.board[v,h] == current_player:\n",
    "                    for tile in temp:\n",
    "                        tile_to_flip.append(tile)\n",
    "                    break\n",
    "                else:\n",
    "                    con = True\n",
    "                    temp.append((v,h))\n",
    "                    v -= 1\n",
    "                    h -= 1\n",
    "        \n",
    "        # Check diagonally, upper right\n",
    "        if x>0 and y<7:\n",
    "            v = x-1\n",
    "            h = y+1\n",
    "            con = False\n",
    "            temp = []\n",
    "            while v>=0 and h<=7:\n",
    "                if self.board[v,h] == 0:\n",
    "                    break\n",
    "                if not(con) and self.board[v,h] == current_player:\n",
    "                    break\n",
    "                if con and self.board[v,h] == current_player:\n",
    "                    for tile in temp:\n",
    "                        tile_to_flip.append(tile)\n",
    "                    break\n",
    "                else:\n",
    "                    con = True\n",
    "                    temp.append((v,h))\n",
    "                    v -= 1\n",
    "                    h += 1\n",
    "        \n",
    "        \n",
    "\n",
    "        # Check diagonally, lower left\n",
    "        if x<7 and y>0:\n",
    "            v = x+1\n",
    "            h = y-1\n",
    "            con = False\n",
    "            temp = []\n",
    "            while v<=7 and h>=0:\n",
    "                if self.board[v,h] == 0:\n",
    "                    break\n",
    "                if not(con) and self.board[v,h] == current_player:\n",
    "                    break\n",
    "                if con and self.board[v,h] == current_player:\n",
    "                    for tile in temp:\n",
    "                        tile_to_flip.append(tile)\n",
    "                    break\n",
    "                else:\n",
    "                    con = True\n",
    "                    temp.append((v,h))\n",
    "                    v += 1\n",
    "                    h -= 1\n",
    "        # Check diagonally, lower right\n",
    "        if x<7 and y<7:\n",
    "            v = x+1\n",
    "            h = y+1\n",
    "            con = False\n",
    "            temp = []\n",
    "            while v<=7 and h<=7:\n",
    "                if self.board[v,h] == 0:\n",
    "                    break\n",
    "                if not(con) and self.board[v,h] == current_player:\n",
    "                    break\n",
    "                if con and self.board[v,h] == current_player:\n",
    "                    for tile in temp:\n",
    "                        tile_to_flip.append(tile)\n",
    "                    break\n",
    "                else:\n",
    "                    con = True\n",
    "                    temp.append((v,h))\n",
    "                    v += 1\n",
    "                    h += 1\n",
    "        if len(tile_to_flip) == 0:\n",
    "            return (False,[])\n",
    "        else:\n",
    "            return (True,tile_to_flip)\n",
    "\n",
    "    def valid_move(self,player,verbose=False):\n",
    "        # Return a list of possible move for the player\n",
    "        current_pos = np.where(self.board==player)\n",
    "        blank_pos = np.where(self.board==0)\n",
    "        possible_move = []\n",
    "        for i,j in zip(blank_pos[0],blank_pos[1]):\n",
    "            if self.is_valid(player,i,j)[0]:\n",
    "                possible_move.append([i,j])\n",
    "        if verbose:\n",
    "            self.visualize_possible_move(player,possible_move)\n",
    "        return possible_move\n",
    "\n",
    "    def move(self,player,x,y):\n",
    "        # Make a move for a given player in the x,y coordinate\n",
    "        # Check if the move is valid:\n",
    "        valid, tile_to_flip = self.is_valid(player,x,y)\n",
    "        if valid:\n",
    "            self.board[x,y] = player\n",
    "            # Change the tile to that of the player\n",
    "            for tile in tile_to_flip:\n",
    "                x,y = tile\n",
    "                self.board[x,y] = player\n",
    "        else:\n",
    "             raise ValueError(\"Invalid move\")\n",
    "    \n",
    "    def count(self,player):\n",
    "        # Count the number of white/black on the current board\n",
    "        return len(np.where(self.board==player)[0])\n",
    "    \n",
    "    def score(self,verbose=False):\n",
    "        player1_score = self.count(1)\n",
    "        player2_score = self.count(2)\n",
    "        \n",
    "        if verbose:\n",
    "            print('Player 1 score: ',player1score)\n",
    "            print('Player 2 score: ',player2score)\n",
    "\n",
    "        return (player1_score,player2_score)\n",
    "    \n",
    "    def evaluate(self,player):\n",
    "        if player == 1:\n",
    "            opponent = 2\n",
    "        else:\n",
    "            opponent = 1\n",
    "        return self.count(player) - self.count(opponent)\n",
    "\n",
    "    def terminate(self):\n",
    "        # Check if the game has terminated\n",
    "        if len(self.valid_move(1)) == 0 and len(self.valid_move(2)) == 0:\n",
    "            return True\n",
    "        return False\n",
    "\n",
    "\n"
   ]
  },
  {
   "cell_type": "code",
   "execution_count": 94,
   "metadata": {},
   "outputs": [],
   "source": [
    "# Version 2\n",
    "def minimax_value(board,original_turn,current_turn,depth,alpha,beta):\n",
    "    # We reach the end of our search tree\n",
    "    if depth == 2 or board.terminate():\n",
    "        return board.evaluate(original_turn)\n",
    "    # If no move left, skip to opponent's move\n",
    "    if current_turn == 1:\n",
    "        opponent = 2\n",
    "    else:\n",
    "        opponent = 1\n",
    "    possible_move = board.valid_move(current_turn)\n",
    "    # If no possible move, skip to the next player's turn\n",
    "    if len(possible_move) == 0:\n",
    "        return minimax_value(board,original_turn,opponent,depth+1,alpha,beta)\n",
    "    else:\n",
    "        bestMoveVal = -999 #find max\n",
    "        if (original_turn != current_turn):\n",
    "            bestMoveVal = -999 #find min\n",
    "        # Try out all move\n",
    "        for move in possible_move:\n",
    "            copy_board = copy.deepcopy(board)\n",
    "            # Make the move\n",
    "            copy_board.move(current_turn,move[0],move[1])\n",
    "            # Recursive call\n",
    "            val = minimax_value(copy_board,original_turn,opponent,depth+1,alpha,beta)\n",
    "            \n",
    "            \n",
    "            # Check if it's a better move\n",
    "            if original_turn == current_turn:\n",
    "                alpha = max(alpha,val)\n",
    "                if alpha >= beta:\n",
    "                    break\n",
    "                # Remember max if it's originator's turn\n",
    "                if val > bestMoveVal:\n",
    "                    bestMoveVal = val\n",
    "            else:\n",
    "                # Remember min value if it's opponent's turn\n",
    "                beta = min(beta,val)\n",
    "                if beta <= alpha:\n",
    "                    break\n",
    "                if val < bestMoveVal:\n",
    "                    bestMoveVal = val\n",
    "        return bestMoveVal\n",
    "\n",
    "def minimax_decision(current_player,board,possible_move):\n",
    "    if current_player == 1:\n",
    "        opponent = 2\n",
    "    else:\n",
    "        opponent = 1\n",
    "    bestMoveVal = float('-inf')\n",
    "    for move in possible_move:\n",
    "        if move==[0,0] or move==[0,7] or move==[7,0] or move==[7,7]:\n",
    "            val = 100\n",
    "        else:\n",
    "            copy_board = copy.deepcopy(board)\n",
    "            copy_board.move(current_player,move[0],move[1])\n",
    "            val = minimax_value(copy_board,current_player,opponent,depth=1,alpha=float('-inf'),beta=float('inf'))\n",
    "        if val > bestMoveVal:\n",
    "            bestMoveVal = val\n",
    "            bestX = move[0]\n",
    "            bestY = move[1]\n",
    "    return [bestX,bestY]"
   ]
  },
  {
   "cell_type": "code",
   "execution_count": 100,
   "metadata": {},
   "outputs": [],
   "source": [
    "def play(verbose=False):\n",
    "    b = Othello()\n",
    "    current_player = 2\n",
    "    other_player = 1\n",
    "    #print(\"Current player: \",current_player)\n",
    "    #b.valid_move(current_player,verbose=True)\n",
    "    while not(b.terminate()):\n",
    "        possible_move = b.valid_move(current_player)\n",
    "        if len(possible_move) == 0:\n",
    "            current_player, other_player = other_player, current_player\n",
    "            continue\n",
    "        if current_player == 1:\n",
    "            x,y = minimax_decision(current_player,b,possible_move)\n",
    "        else:\n",
    "            index = np.random.choice(len(possible_move))\n",
    "            x,y = possible_move[index]\n",
    "        b.move(current_player,x,y)\n",
    "        current_player, other_player = other_player, current_player\n",
    "        if verbose:\n",
    "            b.visualize()\n",
    "            print('\\n')\n",
    "    if b.terminate():\n",
    "        return b.score()\n",
    "\n"
   ]
  },
  {
   "cell_type": "code",
   "execution_count": 101,
   "metadata": {},
   "outputs": [],
   "source": [
    "from tqdm.notebook import tqdm\n",
    "def simulate(n,verbose=False):\n",
    "    win = 0\n",
    "    for i in tqdm(range(n)):\n",
    "        player1_score, player2_score = play()\n",
    "        if player1_score > player2_score:\n",
    "            win += 1\n",
    "    if verbose:\n",
    "        print(\"Win rate using minimax: \",win,\"/\",n)\n",
    "    return win"
   ]
  },
  {
   "cell_type": "code",
   "execution_count": 102,
   "metadata": {
    "scrolled": true
   },
   "outputs": [
    {
     "data": {
      "application/vnd.jupyter.widget-view+json": {
       "model_id": "d60afd1ff2b84808a1bff3dfeb9f4a72",
       "version_major": 2,
       "version_minor": 0
      },
      "text/plain": [
       "HBox(children=(FloatProgress(value=0.0, max=20.0), HTML(value='')))"
      ]
     },
     "metadata": {},
     "output_type": "display_data"
    },
    {
     "data": {
      "application/vnd.jupyter.widget-view+json": {
       "model_id": "abacada9a59a4e74a7b70b860798c906",
       "version_major": 2,
       "version_minor": 0
      },
      "text/plain": [
       "HBox(children=(FloatProgress(value=0.0), HTML(value='')))"
      ]
     },
     "metadata": {},
     "output_type": "display_data"
    },
    {
     "name": "stdout",
     "output_type": "stream",
     "text": [
      "\n",
      "Win rate using minimax:  65 / 100\n"
     ]
    },
    {
     "data": {
      "application/vnd.jupyter.widget-view+json": {
       "model_id": "1f7b1fd9439e441183dee5f5da3c2c61",
       "version_major": 2,
       "version_minor": 0
      },
      "text/plain": [
       "HBox(children=(FloatProgress(value=0.0), HTML(value='')))"
      ]
     },
     "metadata": {},
     "output_type": "display_data"
    },
    {
     "name": "stdout",
     "output_type": "stream",
     "text": [
      "\n",
      "Win rate using minimax:  75 / 100\n"
     ]
    },
    {
     "data": {
      "application/vnd.jupyter.widget-view+json": {
       "model_id": "bd72bacb03904604b3c58d9b4ca3f3c8",
       "version_major": 2,
       "version_minor": 0
      },
      "text/plain": [
       "HBox(children=(FloatProgress(value=0.0), HTML(value='')))"
      ]
     },
     "metadata": {},
     "output_type": "display_data"
    },
    {
     "name": "stdout",
     "output_type": "stream",
     "text": [
      "\n",
      "Win rate using minimax:  66 / 100\n"
     ]
    },
    {
     "data": {
      "application/vnd.jupyter.widget-view+json": {
       "model_id": "43ff04c7ae9f4ad5bbf02bbf681d0a23",
       "version_major": 2,
       "version_minor": 0
      },
      "text/plain": [
       "HBox(children=(FloatProgress(value=0.0), HTML(value='')))"
      ]
     },
     "metadata": {},
     "output_type": "display_data"
    },
    {
     "name": "stdout",
     "output_type": "stream",
     "text": [
      "\n",
      "Win rate using minimax:  60 / 100\n"
     ]
    },
    {
     "data": {
      "application/vnd.jupyter.widget-view+json": {
       "model_id": "53023e954ec8490ab2710b279d8b9d1c",
       "version_major": 2,
       "version_minor": 0
      },
      "text/plain": [
       "HBox(children=(FloatProgress(value=0.0), HTML(value='')))"
      ]
     },
     "metadata": {},
     "output_type": "display_data"
    },
    {
     "name": "stdout",
     "output_type": "stream",
     "text": [
      "\n",
      "Win rate using minimax:  60 / 100\n"
     ]
    },
    {
     "data": {
      "application/vnd.jupyter.widget-view+json": {
       "model_id": "d1b0f9d5c6ec468d9569c1318a101926",
       "version_major": 2,
       "version_minor": 0
      },
      "text/plain": [
       "HBox(children=(FloatProgress(value=0.0), HTML(value='')))"
      ]
     },
     "metadata": {},
     "output_type": "display_data"
    },
    {
     "name": "stdout",
     "output_type": "stream",
     "text": [
      "\n",
      "Win rate using minimax:  70 / 100\n"
     ]
    },
    {
     "data": {
      "application/vnd.jupyter.widget-view+json": {
       "model_id": "867cf63482524029bbb5711ec4676469",
       "version_major": 2,
       "version_minor": 0
      },
      "text/plain": [
       "HBox(children=(FloatProgress(value=0.0), HTML(value='')))"
      ]
     },
     "metadata": {},
     "output_type": "display_data"
    },
    {
     "name": "stdout",
     "output_type": "stream",
     "text": [
      "\n",
      "Win rate using minimax:  58 / 100\n"
     ]
    },
    {
     "data": {
      "application/vnd.jupyter.widget-view+json": {
       "model_id": "8d8c4a97cb87451ca25b77e66b12ee84",
       "version_major": 2,
       "version_minor": 0
      },
      "text/plain": [
       "HBox(children=(FloatProgress(value=0.0), HTML(value='')))"
      ]
     },
     "metadata": {},
     "output_type": "display_data"
    },
    {
     "name": "stdout",
     "output_type": "stream",
     "text": [
      "\n",
      "Win rate using minimax:  67 / 100\n"
     ]
    },
    {
     "data": {
      "application/vnd.jupyter.widget-view+json": {
       "model_id": "0f76d35ff3694725bfe3db1c1425ffad",
       "version_major": 2,
       "version_minor": 0
      },
      "text/plain": [
       "HBox(children=(FloatProgress(value=0.0), HTML(value='')))"
      ]
     },
     "metadata": {},
     "output_type": "display_data"
    },
    {
     "name": "stdout",
     "output_type": "stream",
     "text": [
      "\n",
      "Win rate using minimax:  55 / 100\n"
     ]
    },
    {
     "data": {
      "application/vnd.jupyter.widget-view+json": {
       "model_id": "9171e57cbde542e098a22ec8a9889356",
       "version_major": 2,
       "version_minor": 0
      },
      "text/plain": [
       "HBox(children=(FloatProgress(value=0.0), HTML(value='')))"
      ]
     },
     "metadata": {},
     "output_type": "display_data"
    },
    {
     "name": "stdout",
     "output_type": "stream",
     "text": [
      "\n",
      "Win rate using minimax:  69 / 100\n"
     ]
    },
    {
     "data": {
      "application/vnd.jupyter.widget-view+json": {
       "model_id": "361b70571ea3475aa54c2ac656d64956",
       "version_major": 2,
       "version_minor": 0
      },
      "text/plain": [
       "HBox(children=(FloatProgress(value=0.0), HTML(value='')))"
      ]
     },
     "metadata": {},
     "output_type": "display_data"
    },
    {
     "name": "stdout",
     "output_type": "stream",
     "text": [
      "\n",
      "Win rate using minimax:  56 / 100\n"
     ]
    },
    {
     "data": {
      "application/vnd.jupyter.widget-view+json": {
       "model_id": "63dc7d91781c47a1a8dd7dfe5934c0ff",
       "version_major": 2,
       "version_minor": 0
      },
      "text/plain": [
       "HBox(children=(FloatProgress(value=0.0), HTML(value='')))"
      ]
     },
     "metadata": {},
     "output_type": "display_data"
    },
    {
     "name": "stdout",
     "output_type": "stream",
     "text": [
      "\n",
      "Win rate using minimax:  74 / 100\n"
     ]
    },
    {
     "data": {
      "application/vnd.jupyter.widget-view+json": {
       "model_id": "e57227cef3844d409595751655088643",
       "version_major": 2,
       "version_minor": 0
      },
      "text/plain": [
       "HBox(children=(FloatProgress(value=0.0), HTML(value='')))"
      ]
     },
     "metadata": {},
     "output_type": "display_data"
    },
    {
     "name": "stdout",
     "output_type": "stream",
     "text": [
      "\n",
      "Win rate using minimax:  72 / 100\n"
     ]
    },
    {
     "data": {
      "application/vnd.jupyter.widget-view+json": {
       "model_id": "af2fa33cc3ad470d8fc6487a46b48fe6",
       "version_major": 2,
       "version_minor": 0
      },
      "text/plain": [
       "HBox(children=(FloatProgress(value=0.0), HTML(value='')))"
      ]
     },
     "metadata": {},
     "output_type": "display_data"
    },
    {
     "name": "stdout",
     "output_type": "stream",
     "text": [
      "\n",
      "Win rate using minimax:  58 / 100\n"
     ]
    },
    {
     "data": {
      "application/vnd.jupyter.widget-view+json": {
       "model_id": "db1d5e908d4041d2ba39426b384c98ec",
       "version_major": 2,
       "version_minor": 0
      },
      "text/plain": [
       "HBox(children=(FloatProgress(value=0.0), HTML(value='')))"
      ]
     },
     "metadata": {},
     "output_type": "display_data"
    },
    {
     "name": "stdout",
     "output_type": "stream",
     "text": [
      "\n",
      "Win rate using minimax:  73 / 100\n"
     ]
    },
    {
     "data": {
      "application/vnd.jupyter.widget-view+json": {
       "model_id": "a38b11e2cc824328a1f78ad8e2e43794",
       "version_major": 2,
       "version_minor": 0
      },
      "text/plain": [
       "HBox(children=(FloatProgress(value=0.0), HTML(value='')))"
      ]
     },
     "metadata": {},
     "output_type": "display_data"
    },
    {
     "name": "stdout",
     "output_type": "stream",
     "text": [
      "\n",
      "Win rate using minimax:  55 / 100\n"
     ]
    },
    {
     "data": {
      "application/vnd.jupyter.widget-view+json": {
       "model_id": "e57a4669c40e45e29cc91a6e0b5fe4c9",
       "version_major": 2,
       "version_minor": 0
      },
      "text/plain": [
       "HBox(children=(FloatProgress(value=0.0), HTML(value='')))"
      ]
     },
     "metadata": {},
     "output_type": "display_data"
    },
    {
     "name": "stdout",
     "output_type": "stream",
     "text": [
      "\n",
      "Win rate using minimax:  66 / 100\n"
     ]
    },
    {
     "data": {
      "application/vnd.jupyter.widget-view+json": {
       "model_id": "c9d5052235f04c278df7d0fa93466ff7",
       "version_major": 2,
       "version_minor": 0
      },
      "text/plain": [
       "HBox(children=(FloatProgress(value=0.0), HTML(value='')))"
      ]
     },
     "metadata": {},
     "output_type": "display_data"
    },
    {
     "name": "stdout",
     "output_type": "stream",
     "text": [
      "\n",
      "Win rate using minimax:  58 / 100\n"
     ]
    },
    {
     "data": {
      "application/vnd.jupyter.widget-view+json": {
       "model_id": "aff7e0a898e14780a50cb90b4216e026",
       "version_major": 2,
       "version_minor": 0
      },
      "text/plain": [
       "HBox(children=(FloatProgress(value=0.0), HTML(value='')))"
      ]
     },
     "metadata": {},
     "output_type": "display_data"
    },
    {
     "name": "stdout",
     "output_type": "stream",
     "text": [
      "\n",
      "Win rate using minimax:  61 / 100\n"
     ]
    },
    {
     "data": {
      "application/vnd.jupyter.widget-view+json": {
       "model_id": "45a3575e582742078bd310ecd22a9600",
       "version_major": 2,
       "version_minor": 0
      },
      "text/plain": [
       "HBox(children=(FloatProgress(value=0.0), HTML(value='')))"
      ]
     },
     "metadata": {},
     "output_type": "display_data"
    },
    {
     "name": "stdout",
     "output_type": "stream",
     "text": [
      "\n",
      "Win rate using minimax:  62 / 100\n",
      "\n"
     ]
    }
   ],
   "source": [
    "ls = []\n",
    "for i in tqdm(range(20)):\n",
    "    ls.append(simulate(100,verbose=True))"
   ]
  },
  {
   "cell_type": "code",
   "execution_count": null,
   "metadata": {},
   "outputs": [],
   "source": [
    "ls"
   ]
  },
  {
   "cell_type": "code",
   "execution_count": 99,
   "metadata": {},
   "outputs": [
    {
     "data": {
      "text/plain": [
       "64.0"
      ]
     },
     "execution_count": 99,
     "metadata": {},
     "output_type": "execute_result"
    }
   ],
   "source": [
    "res = np.array(ls)\n",
    "np.sum(res)/res.size"
   ]
  },
  {
   "cell_type": "code",
   "execution_count": null,
   "metadata": {},
   "outputs": [],
   "source": []
  }
 ],
 "metadata": {
  "kernelspec": {
   "display_name": "Python 3",
   "language": "python",
   "name": "python3"
  },
  "language_info": {
   "codemirror_mode": {
    "name": "ipython",
    "version": 3
   },
   "file_extension": ".py",
   "mimetype": "text/x-python",
   "name": "python",
   "nbconvert_exporter": "python",
   "pygments_lexer": "ipython3",
   "version": "3.7.6"
  }
 },
 "nbformat": 4,
 "nbformat_minor": 4
}
